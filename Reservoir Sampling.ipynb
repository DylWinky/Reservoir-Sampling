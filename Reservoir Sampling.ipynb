{
 "cells": [
  {
   "attachments": {},
   "cell_type": "markdown",
   "metadata": {},
   "source": [
    "# Reservoir Sampling \n"
   ]
  },
  {
   "attachments": {},
   "cell_type": "markdown",
   "metadata": {},
   "source": [
    "## Problem \n",
    "Given a stream of elements too large to store in memory, pick a random element from the stream with uniform probability."
   ]
  },
  {
   "attachments": {},
   "cell_type": "markdown",
   "metadata": {},
   "source": [
    "## Background \n",
    "A stream is a sequence of data elements made available one at a time. It can be thought of like items on a conveyer belt. Since the stream of elements is too large to store in memory, our program must be able to select a random element in O(1) space complexity, or in other words by analyzing the items on the conveyer belt only once as they come in.  \n",
    "This is a type of algorithm know as reservoir sampling - randomly choosing k samples from a population of unknown size n in a single pass over the items. In this special case k = 1. "
   ]
  },
  {
   "attachments": {},
   "cell_type": "markdown",
   "metadata": {},
   "source": [
    "## Approach\n",
    "Consider a conveyer belt with an unknown number of items. A person stands next to the conveyer belt, and can select items from it one at a time. The last item he takes off the conveyer belt will be the one he keeps. The probability that he takes the $k^{th}$ item off the conveyer belt is 1/k.  \n",
    "**Postulate**: each item on the conveyer belt has equal probability to be the item kept by the person. Therefore each item has 1/n chance of being kept, where n is the number of items on the conveyer belt.\n",
    "### Mathematical Proof:\n",
    "**Two Simple Truths**  \n",
    "1. Last item has $\\frac{1}{n}$ chance\n",
    "2. For an item $\\alpha$ positions from the end of the conveyer belt, the probility is $p(\\alpha) = \\frac{1}{n-\\alpha} \\times \\frac{n-\\alpha}{n-\\alpha+1} \\times \\frac{n-\\alpha+1}{n-\\alpha+2} \\ ... \\times \\frac{n-1}{n}$  \n",
    "  \n",
    "  \n",
    "We need to prove that $p(\\alpha) = \\frac{1}{n}$ for all $\\alpha$.  \n",
    "  \n",
    "**Proof by induction:**  \n",
    "1. **Base Case**: $\\alpha = 1$  \n",
    "$p(1) = \\frac{1}{n-1} \\times \\frac{n-1}{n} = \\frac{1}{n}$  \n",
    "    \n",
    "2. **Inductive step:**  \n",
    "Assume $p(\\alpha)$ holds. Therefore we have:  \n",
    "$p(\\alpha + 1) = \\frac{1}{n-\\alpha-1} \\times \\frac{n-\\alpha-1}{n-\\alpha} \\times \\frac{n-\\alpha}{n-\\alpha+1} \\times \\frac{n-\\alpha+1}{n-\\alpha+2} \\ ... \\times \\frac{n-1}{n}$    \n",
    "$p(\\alpha + 1) = \\underbrace{\\frac{1}{n-\\alpha} \\times \\frac{n-\\alpha}{n-\\alpha+1} \\times \\frac{n-\\alpha+1}{n-\\alpha+2} \\ ... \\times \\frac{n-1}{n}}_{p(\\alpha)}$  \n",
    "$p(\\alpha + 1) = p(\\alpha)$  \n",
    "  \n",
    "  \n",
    "Therefore, $p(\\alpha + 1)$ holds by the induction hypothesis. Since the base case $p(1)$ also holds, we have proved by induction that $p(\\alpha) = \\frac{1}{n}$ for all natural numbers $n$.  \n",
    "  \n",
    "Since $p(\\alpha) = \\frac{1}{n}$ covers all items before the last item, and the last item trivially has probability $\\frac{1}{n}$, we have proven that all items on the conveyer belt have equal chance ($\\frac{1}{n}$) of being kept."
   ]
  },
  {
   "attachments": {},
   "cell_type": "markdown",
   "metadata": {},
   "source": [
    "## The Code"
   ]
  },
  {
   "cell_type": "code",
   "execution_count": 1,
   "metadata": {},
   "outputs": [],
   "source": [
    "import random\n",
    "\n",
    "count = 0\n",
    "chosen_element = None\n",
    "\n",
    "def select_element(x):\n",
    "    global count\n",
    "    global chosen_element\n",
    "    count += 1\n",
    "    if random.random() <= 1/count:\n",
    "        chosen_element = x"
   ]
  },
  {
   "attachments": {},
   "cell_type": "markdown",
   "metadata": {},
   "source": [
    "## Testing"
   ]
  },
  {
   "cell_type": "code",
   "execution_count": 2,
   "metadata": {},
   "outputs": [
    {
     "data": {
      "text/plain": [
       "<BarContainer object of 8 artists>"
      ]
     },
     "execution_count": 2,
     "metadata": {},
     "output_type": "execute_result"
    },
    {
     "data": {
      "image/png": "[encoded data removed]",
      "text/plain": [
       "<Figure size 640x480 with 1 Axes>"
      ]
     },
     "metadata": {},
     "output_type": "display_data"
    }
   ],
   "source": [
    "import matplotlib.pyplot as plt\n",
    "\n",
    "test_stream = ['Dylan','Amy','Spencer','Rob','Lauren','Kian','Herbie','Diogo']\n",
    "answers = []\n",
    "occurrences = []\n",
    "\n",
    "#Testing function on data stream 10000 times\n",
    "for test in range(10000):\n",
    "    for element in test_stream:\n",
    "        select_element(element) \n",
    "    answers.append(chosen_element)\n",
    "    chosen_element = 0 \n",
    "    count = 0 \n",
    "\n",
    "#Plotting results\n",
    "for name in test_stream:\n",
    "    occurrences.append(answers.count(name))\n",
    "\n",
    "plt.bar(test_stream,occurrences)    \n"
   ]
  }
 ],
 "metadata": {
  "kernelspec": {
   "display_name": "base",
   "language": "python",
   "name": "python3"
  },
  "language_info": {
   "codemirror_mode": {
    "name": "ipython",
    "version": 3
   },
   "file_extension": ".py",
   "mimetype": "text/x-python",
   "name": "python",
   "nbconvert_exporter": "python",
   "pygments_lexer": "ipython3",
   "version": "3.9.13"
  },
  "orig_nbformat": 4,
  "vscode": {
   "interpreter": {
    "hash": "66ab87c5544fc6db13c64f97bfe602acaa7473938449ac42fc291f2a1d10efc6"
   }
  }
 },
 "nbformat": 4,
 "nbformat_minor": 2
}
